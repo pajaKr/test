{
 "cells": [
  {
   "cell_type": "markdown",
   "id": "a397333c",
   "metadata": {},
   "source": [
    "# This is a test"
   ]
  },
  {
   "cell_type": "code",
   "execution_count": 2,
   "id": "8eb9b07a",
   "metadata": {},
   "outputs": [
    {
     "name": "stdout",
     "output_type": "stream",
     "text": [
      "Hello, this is a test\n"
     ]
    }
   ],
   "source": [
    "print(\"Hello, this is a test\")"
   ]
  },
  {
   "cell_type": "code",
   "execution_count": 4,
   "id": "9c31de5a",
   "metadata": {},
   "outputs": [
    {
     "name": "stdout",
     "output_type": "stream",
     "text": [
      "22 is a nice number isn't it\n",
      "yes\n",
      "nice\n"
     ]
    }
   ],
   "source": [
    "x = 22\n",
    "print(x, \"is a nice number isn't it\") #continuation of the test\n",
    "your_opinion = input()\n",
    "if your_opinion == \"yes\":\n",
    "    print(\"nice\")\n",
    "else:\n",
    "    print(\"too bad :(\")"
   ]
  },
  {
   "cell_type": "code",
   "execution_count": null,
   "id": "4e43e97d",
   "metadata": {},
   "outputs": [],
   "source": [
    "#this is the end of my test, wish me luck"
   ]
  }
 ],
 "metadata": {
  "kernelspec": {
   "display_name": "Python 3 (ipykernel)",
   "language": "python",
   "name": "python3"
  },
  "language_info": {
   "codemirror_mode": {
    "name": "ipython",
    "version": 3
   },
   "file_extension": ".py",
   "mimetype": "text/x-python",
   "name": "python",
   "nbconvert_exporter": "python",
   "pygments_lexer": "ipython3",
   "version": "3.8.12"
  }
 },
 "nbformat": 4,
 "nbformat_minor": 5
}
